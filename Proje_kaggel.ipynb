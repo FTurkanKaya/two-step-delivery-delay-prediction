{
 "cells": [
  {
   "cell_type": "code",
   "execution_count": null,
   "id": "c9657110-b376-42e4-85ff-614b1dc491e3",
   "metadata": {},
   "outputs": [],
   "source": [
    "#!pip install kaggle "
   ]
  },
  {
   "cell_type": "code",
   "execution_count": 1,
   "id": "3c912dbf-caee-4ae4-b601-914c973ff95a",
   "metadata": {},
   "outputs": [],
   "source": [
    "import requests\n",
    "import pandas as pd\n",
    "import os\n",
    "\n",
    "from kaggle.api.kaggle_api_extended import KaggleApi"
   ]
  },
  {
   "cell_type": "code",
   "execution_count": 2,
   "id": "475061eb-636a-405a-a15f-30f221b69660",
   "metadata": {},
   "outputs": [
    {
     "name": "stdout",
     "output_type": "stream",
     "text": [
      "Dataset URL: https://www.kaggle.com/datasets/olistbr/brazilian-ecommerce\n"
     ]
    }
   ],
   "source": [
    "api = KaggleApi()\n",
    "api.authenticate()\n",
    "\n",
    "api.dataset_download_files('olistbr/brazilian-ecommerce', path='./dataset', unzip=True)"
   ]
  },
  {
   "cell_type": "code",
   "execution_count": null,
   "id": "2c82b9e7-7585-4ff6-9615-c17d83701cbe",
   "metadata": {},
   "outputs": [],
   "source": []
  }
 ],
 "metadata": {
  "kernelspec": {
   "display_name": "Python 3 (ipykernel)",
   "language": "python",
   "name": "python3"
  },
  "language_info": {
   "codemirror_mode": {
    "name": "ipython",
    "version": 3
   },
   "file_extension": ".py",
   "mimetype": "text/x-python",
   "name": "python",
   "nbconvert_exporter": "python",
   "pygments_lexer": "ipython3",
   "version": "3.13.2"
  }
 },
 "nbformat": 4,
 "nbformat_minor": 5
}
